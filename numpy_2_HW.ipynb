{
 "cells": [
  {
   "cell_type": "code",
   "execution_count": 1,
   "id": "d9472c42",
   "metadata": {},
   "outputs": [],
   "source": [
    "import numpy as np"
   ]
  },
  {
   "cell_type": "code",
   "execution_count": 8,
   "id": "a80a812b",
   "metadata": {},
   "outputs": [
    {
     "name": "stdout",
     "output_type": "stream",
     "text": [
      "[ 1  2  3  4  5  6  7  8  9 10 11 12 13 14 15 16]\n",
      "[[ 1  2  3  4]\n",
      " [ 5  6  7  8]\n",
      " [ 9 10 11 12]\n",
      " [13 14 15 16]]\n"
     ]
    }
   ],
   "source": [
    "num1 = np.arange(1, 17)\n",
    "print(num1)\n",
    "\n",
    "num1 = num1.reshape(4, 4) \n",
    "print(num1)"
   ]
  },
  {
   "cell_type": "code",
   "execution_count": 13,
   "id": "abb878c5",
   "metadata": {},
   "outputs": [
    {
     "name": "stdout",
     "output_type": "stream",
     "text": [
      "[10 15 20 25 30 35 40 45 50]\n",
      "[[10 15 20 25]\n",
      " [30 35 40 45]]\n"
     ]
    }
   ],
   "source": [
    "num2 = np.arange(10, 51 ,5)\n",
    "print(num2)\n",
    "\n",
    "num2 = np.arange(10, 50 ,5)\n",
    "\n",
    "num2 = num2.reshape(2, 4)\n",
    "print(num2)"
   ]
  },
  {
   "cell_type": "code",
   "execution_count": 18,
   "id": "4ea8b6f0",
   "metadata": {},
   "outputs": [
    {
     "name": "stdout",
     "output_type": "stream",
     "text": [
      "[[45 17 34]\n",
      " [26 72 68]\n",
      " [60  4 49]]\n",
      "\n",
      "max : 72\n",
      "min : 4\n"
     ]
    }
   ],
   "source": [
    "num3 = np.random.randint(1, 101, (3, 3))  \n",
    "print(num3)\n",
    "\n",
    "print()\n",
    "\n",
    "print('max :', num3.max())  \n",
    "print('min :', num3.min()) "
   ]
  },
  {
   "cell_type": "code",
   "execution_count": 26,
   "id": "4a7bbf6f",
   "metadata": {},
   "outputs": [
    {
     "name": "stdout",
     "output_type": "stream",
     "text": [
      "[15 11 13  9  8 17 18 20 14 12]\n",
      "[15 11 13  9  8]\n",
      "[15 13  8 18 14]\n",
      "[12 14 20 18 17  8  9 13 11 15]\n"
     ]
    }
   ],
   "source": [
    "num4 = np.random.choice(np.arange(0, 21), 10, replace=False)\n",
    "print(num4)\n",
    "\n",
    "print(num4[0:5])\n",
    "print(num4[::2])\n",
    "print(num4[::-1])"
   ]
  },
  {
   "cell_type": "code",
   "execution_count": 29,
   "id": "1aefea0e",
   "metadata": {},
   "outputs": [
    {
     "name": "stdout",
     "output_type": "stream",
     "text": [
      "[23  5 42 33  1 49 31 21 10 30 27  3 45 29 26 16 22  4 28 39]\n",
      "[[23  5 42 33  1]\n",
      " [49 31 21 10 30]\n",
      " [27  3 45 29 26]\n",
      " [16 22  4 28 39]]\n",
      "26\n"
     ]
    }
   ],
   "source": [
    "num5 = np.random.choice(np.arange(1, 51), 20, replace=False)\n",
    "print(num5)\n",
    "\n",
    "num5 = num5.reshape(4, 5)\n",
    "print(num5)\n",
    "print(num5[2][4])"
   ]
  },
  {
   "cell_type": "code",
   "execution_count": 32,
   "id": "eebf6a31",
   "metadata": {},
   "outputs": [
    {
     "name": "stdout",
     "output_type": "stream",
     "text": [
      "[54 86 78 15 70 16 51 48 92  3 50 33 23 40 10]\n",
      "8\n",
      "9\n"
     ]
    }
   ],
   "source": [
    "num6 = np.random.choice(np.arange(0, 101), 15, replace=False)\n",
    "print(num6)\n",
    "\n",
    "print(np.argmax(num6))\n",
    "print(np.argmin(num6))"
   ]
  },
  {
   "cell_type": "code",
   "execution_count": null,
   "id": "cdb84248",
   "metadata": {},
   "outputs": [],
   "source": [
    "## המשך לשאלה 6 לא הצלחתי "
   ]
  }
 ],
 "metadata": {
  "kernelspec": {
   "display_name": "Python 3 (ipykernel)",
   "language": "python",
   "name": "python3"
  },
  "language_info": {
   "codemirror_mode": {
    "name": "ipython",
    "version": 3
   },
   "file_extension": ".py",
   "mimetype": "text/x-python",
   "name": "python",
   "nbconvert_exporter": "python",
   "pygments_lexer": "ipython3",
   "version": "3.11.5"
  }
 },
 "nbformat": 4,
 "nbformat_minor": 5
}
